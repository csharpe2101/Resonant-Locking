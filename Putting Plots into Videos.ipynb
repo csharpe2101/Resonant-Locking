{
 "cells": [
  {
   "cell_type": "code",
   "execution_count": 7,
   "id": "7c4461c9",
   "metadata": {},
   "outputs": [],
   "source": [
    "import cv2\n",
    "import numpy as np\n",
    "import glob"
   ]
  },
  {
   "cell_type": "code",
   "execution_count": 8,
   "id": "b86cfcf4",
   "metadata": {},
   "outputs": [],
   "source": [
    "img_array = []\n",
    "\n",
    "# Just need to adjust the strings so that it says either '_UnLocked' or '_Locked' at the end\n",
    "\n",
    "for iterate in range(0, -1 + len(sorted(glob.glob('/Users/sharpe/Desktop/DPhil/Mathematica/Forced_Pen_Frames_Locked/*.png')))): # (The only change I have made is here to the filepath.)\n",
    "# for iterate in range(0, 20): # (The only change I have made is here to the filepath.)\n",
    "    filenames1 = sorted(glob.glob('/Users/sharpe/Desktop/DPhil/Mathematica/Forced_Pen_Frames_Locked/*.png'))[iterate]\n",
    "    filenames2 = sorted(glob.glob('/Users/sharpe/Desktop/DPhil/Mathematica/Freq_Plot_Frames_Locked/*.png'))[iterate]   \n",
    "    \n",
    "    image1 = cv2.imread(filenames1)\n",
    "    image2 = cv2.imread(filenames2)\n",
    "\n",
    "    height1, width1, layers1 = image1.shape\n",
    "    height2, width2, layers2 = image2.shape\n",
    "    \n",
    "    gap = np.zeros((height1, 300, 3))\n",
    "    gap.fill(255)\n",
    "    image1 = np.concatenate((gap,image1),1)\n",
    "\n",
    "    height1, width1, layers1 = image1.shape\n",
    "    height2, width2, layers2 = image2.shape\n",
    "\n",
    "    white = np.zeros((int((height1 - height2)/2),width2, 3))\n",
    "    white.fill(255)\n",
    "\n",
    "    image = np.concatenate((white,image2, white))\n",
    "    final = np.concatenate((image,image1),1)\n",
    "    \n",
    "    height, width, layers = final.shape\n",
    "    finalnew = cv2.resize(final,(int(width/2.5),int(height/2.5)))\n",
    "    \n",
    "    height, width, layers = finalnew.shape\n",
    "    size = (width,height)\n",
    "    \n",
    "    save_string = \"/Users/sharpe/Desktop/DPhil/Mathematica/Video_Frames_locked/Video_Frame{:.3f}.png\".format(iterate/1000.)\n",
    "    \n",
    "    cv2.imwrite(save_string,finalnew)\n",
    " "
   ]
  },
  {
   "cell_type": "code",
   "execution_count": 9,
   "id": "debdd344",
   "metadata": {
    "scrolled": true
   },
   "outputs": [
    {
     "ename": "TypeError",
     "evalue": "unsupported operand type(s) for /: 'tuple' and 'float'",
     "output_type": "error",
     "traceback": [
      "\u001b[0;31m---------------------------------------------------------------------------\u001b[0m",
      "\u001b[0;31mTypeError\u001b[0m                                 Traceback (most recent call last)",
      "Cell \u001b[0;32mIn[9], line 5\u001b[0m\n\u001b[1;32m      3\u001b[0m     img \u001b[38;5;241m=\u001b[39m cv2\u001b[38;5;241m.\u001b[39mimread(filename)\n\u001b[1;32m      4\u001b[0m     height, width, layers \u001b[38;5;241m=\u001b[39m img\u001b[38;5;241m.\u001b[39mshape\n\u001b[0;32m----> 5\u001b[0m     size \u001b[38;5;241m=\u001b[39m (width,height)\u001b[38;5;241m/\u001b[39m\u001b[38;5;241m1.2\u001b[39m\n\u001b[1;32m      6\u001b[0m     img_array\u001b[38;5;241m.\u001b[39mappend(img)\n\u001b[1;32m      9\u001b[0m out \u001b[38;5;241m=\u001b[39m cv2\u001b[38;5;241m.\u001b[39mVideoWriter(\u001b[38;5;124m'\u001b[39m\u001b[38;5;124m/Users/sharpe/Desktop/DPhil/Mathematica/Final_Video_locked.mp4\u001b[39m\u001b[38;5;124m'\u001b[39m,cv2\u001b[38;5;241m.\u001b[39mVideoWriter_fourcc(\u001b[38;5;241m*\u001b[39m\u001b[38;5;124m'\u001b[39m\u001b[38;5;124mDIVX\u001b[39m\u001b[38;5;124m'\u001b[39m), \u001b[38;5;241m35\u001b[39m, size)\n",
      "\u001b[0;31mTypeError\u001b[0m: unsupported operand type(s) for /: 'tuple' and 'float'"
     ]
    }
   ],
   "source": [
    "img_array = []\n",
    "for filename in sorted(glob.glob('/Users/sharpe/Desktop/DPhil/Mathematica/Video_Frames_locked/*.png')): # (The only change I have made is here to the filepath.)\n",
    "    img = cv2.imread(filename)\n",
    "    height, width, layers = img.shape\n",
    "    size = (width,height)/1.2\n",
    "    img_array.append(img)\n",
    " \n",
    " \n",
    "out = cv2.VideoWriter('/Users/sharpe/Desktop/DPhil/Mathematica/Final_Video_locked.mp4',cv2.VideoWriter_fourcc(*'DIVX'), 35, size)\n",
    " \n",
    "for i in range(len(img_array)):\n",
    "    out.write(img_array[i])\n",
    "out.release()"
   ]
  },
  {
   "cell_type": "code",
   "execution_count": 4,
   "id": "e589fb67",
   "metadata": {},
   "outputs": [
    {
     "data": {
      "text/plain": [
       "[]"
      ]
     },
     "execution_count": 4,
     "metadata": {},
     "output_type": "execute_result"
    }
   ],
   "source": [
    "sorted(glob.glob('/Users/sharpe/Desktop/DPhil/Mathematica/Video_Frames/*.png'))"
   ]
  },
  {
   "cell_type": "code",
   "execution_count": null,
   "id": "5693f64e",
   "metadata": {},
   "outputs": [],
   "source": []
  }
 ],
 "metadata": {
  "kernelspec": {
   "display_name": "Python 3 (ipykernel)",
   "language": "python",
   "name": "python3"
  },
  "language_info": {
   "codemirror_mode": {
    "name": "ipython",
    "version": 3
   },
   "file_extension": ".py",
   "mimetype": "text/x-python",
   "name": "python",
   "nbconvert_exporter": "python",
   "pygments_lexer": "ipython3",
   "version": "3.11.5"
  }
 },
 "nbformat": 4,
 "nbformat_minor": 5
}
